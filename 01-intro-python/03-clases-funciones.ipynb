{
 "cells": [
  {
   "cell_type": "code",
   "execution_count": 1,
   "metadata": {},
   "outputs": [
    {
     "data": {
      "text/plain": [
       "4"
      ]
     },
     "execution_count": 1,
     "metadata": {},
     "output_type": "execute_result"
    }
   ],
   "source": [
    "# Función lambda, son funcionese\n",
    "\n",
    "def elevar_al_cuadrado(numero_base):\n",
    "    return numero_base * numero_base\n",
    "elevar_al_cuadrado(2)"
   ]
  },
  {
   "cell_type": "code",
   "execution_count": 2,
   "metadata": {},
   "outputs": [
    {
     "data": {
      "text/plain": [
       "4"
      ]
     },
     "execution_count": 2,
     "metadata": {},
     "output_type": "execute_result"
    }
   ],
   "source": [
    "elevar_al_cuadrado_lambda = lambda numero: numero * numero\n",
    "elevar_al_cuadrado_lambda(2)\n"
   ]
  },
  {
   "cell_type": "code",
   "execution_count": 4,
   "metadata": {},
   "outputs": [
    {
     "name": "stdout",
     "output_type": "stream",
     "text": [
      "mensaje: Hola\n"
     ]
    }
   ],
   "source": [
    "def imprimir_mensaje(mensaje):\n",
    "    print(f\"mensaje: {mensaje}\")\n",
    "imprimir_mensaje(\"Hola\")"
   ]
  },
  {
   "cell_type": "code",
   "execution_count": 5,
   "metadata": {},
   "outputs": [
    {
     "name": "stdout",
     "output_type": "stream",
     "text": [
      "Mensaje: Hola\n"
     ]
    }
   ],
   "source": [
    "imprimir_mensaje_lambda = lambda salida : print(f\"Mensaje: {salida}\")\n",
    "imprimir_mensaje_lambda(\"Hola\")"
   ]
  },
  {
   "cell_type": "code",
   "execution_count": 6,
   "metadata": {},
   "outputs": [
    {
     "data": {
      "text/plain": [
       "5"
      ]
     },
     "execution_count": 6,
     "metadata": {},
     "output_type": "execute_result"
    }
   ],
   "source": [
    "suma_lambda = lambda numero1, numero2 : numero1 + numero2\n",
    "suma_lambda(2,3)"
   ]
  },
  {
   "cell_type": "code",
   "execution_count": 9,
   "metadata": {},
   "outputs": [
    {
     "name": "stdout",
     "output_type": "stream",
     "text": [
      "<__main__.Nada object at 0x0000019A2B6E21D0>\n",
      "<class '__main__.Nada'>\n"
     ]
    }
   ],
   "source": [
    "class Nada:\n",
    "    pass\n",
    "\n",
    "una_nada = Nada()\n",
    "print(una_nada)\n",
    "print(type(una_nada))"
   ]
  },
  {
   "cell_type": "code",
   "execution_count": 21,
   "metadata": {},
   "outputs": [
    {
     "name": "stdout",
     "output_type": "stream",
     "text": [
      "Inicia el constructor\n",
      "None\n",
      "amazul\n",
      "1\n",
      "Color: amazul\n",
      "Chasis: 1\n"
     ]
    },
    {
     "data": {
      "text/plain": [
       "14"
      ]
     },
     "execution_count": 21,
     "metadata": {},
     "output_type": "execute_result"
    }
   ],
   "source": [
    "class Auto:\n",
    "    color = None\n",
    "    __numero_chasis = 1  # Los dos guiones bajos significan que la propiedad es privada\n",
    "    def __init__(self, color):  # self es lo mismo que this de otros lenguajes\n",
    "        print(\"Inicia el constructor\")\n",
    "        print(self.color)\n",
    "        self.color = color\n",
    "    # Funcion toString\n",
    "    def __str__(self):\n",
    "        return f\"Color: {self.color}\\nChasis: {self.__numero_chasis}\";\n",
    "    def numero_chasis_impuesto(self):  # Sin los guiones bajos simboliza que la funcion es publica\n",
    "        return self.__calcular_impuesto()\n",
    "    def __calcular_impuesto(self):  # Los dos guiones indican que la funcion es privada\n",
    "        return 14 * self.__numero_chasis\n",
    "nuevo_auto = Auto(\"amazul\")\n",
    "print(nuevo_auto.color)\n",
    "print(nuevo_auto._Auto__numero_chasis)\n",
    "print(nuevo_auto)\n",
    "nuevo_auto.numero_chasis_impuesto()\n"
   ]
  },
  {
   "cell_type": "code",
   "execution_count": 27,
   "metadata": {},
   "outputs": [],
   "source": [
    "class BMW(Auto):  # La clase dentro del parentesis simboliza la calse de la cual se hereda\n",
    "    def __init__(self, color = \"Blanco\"):  # Se debe pedir lo minimo que necesita la clase padre\n",
    "        print(\"Inicializar BMW\")\n",
    "        super().__init__(color)\n",
    "    def __str__(self):\n",
    "        return super().__str__()"
   ]
  },
  {
   "cell_type": "code",
   "execution_count": 28,
   "metadata": {},
   "outputs": [
    {
     "name": "stdout",
     "output_type": "stream",
     "text": [
      "Inicializar BMW\n",
      "Inicia el constructor\n",
      "None\n",
      "Color: Blanco\n",
      "Chasis: 1\n"
     ]
    }
   ],
   "source": [
    "carrito = BMW()\n",
    "print(carrito)"
   ]
  },
  {
   "cell_type": "code",
   "execution_count": 37,
   "metadata": {},
   "outputs": [
    {
     "data": {
      "text/plain": [
       "2.5"
      ]
     },
     "execution_count": 37,
     "metadata": {},
     "output_type": "execute_result"
    }
   ],
   "source": [
    "# Funciones dentro de funciones\n",
    "def calculadora(numero_uno, numero_dos, operacion = \"suma\"):\n",
    "    def suma():\n",
    "        return numero_uno + numero_dos\n",
    "    def resta():\n",
    "        return numero_uno - numero_dos\n",
    "    def multiplicacion():\n",
    "        return numero_uno * numero_dos\n",
    "    def division():\n",
    "        return numero_uno / numero_dos\n",
    "    def opcion_seleccionada():\n",
    "        \"\"\" Normalmente el switch se hace de la siguiente forma:\n",
    "        return {\n",
    "            \"suma\": suma(),\n",
    "            \"resta\": resta(),\n",
    "            \"multiplicacion\": multiplicacion(),\n",
    "            \"division\": division()\n",
    "        }[operacion]\n",
    "        \"\"\"\n",
    "        opciones = {\n",
    "            \"suma\": suma(),\n",
    "            \"resta\": resta(),\n",
    "            \"multiplicacion\": multiplicacion(),\n",
    "            \"division\": division()\n",
    "        }\n",
    "        return opciones[operacion]\n",
    "    return opcion_seleccionada()\n",
    "\n",
    "calculadora(5, 2, \"division\")"
   ]
  },
  {
   "cell_type": "code",
   "execution_count": 38,
   "metadata": {},
   "outputs": [
    {
     "name": "stdout",
     "output_type": "stream",
     "text": [
      "Dime tu edad\n",
      "20\n"
     ]
    },
    {
     "data": {
      "text/plain": [
       "'20'"
      ]
     },
     "execution_count": 38,
     "metadata": {},
     "output_type": "execute_result"
    }
   ],
   "source": [
    "# Lectura por teclado\n",
    "input(\"Dime tu edad\\n\")"
   ]
  },
  {
   "cell_type": "code",
   "execution_count": null,
   "metadata": {},
   "outputs": [],
   "source": []
  }
 ],
 "metadata": {
  "kernelspec": {
   "display_name": "Python 3",
   "language": "python",
   "name": "python3"
  },
  "language_info": {
   "codemirror_mode": {
    "name": "ipython",
    "version": 3
   },
   "file_extension": ".py",
   "mimetype": "text/x-python",
   "name": "python",
   "nbconvert_exporter": "python",
   "pygments_lexer": "ipython3",
   "version": "3.7.3"
  }
 },
 "nbformat": 4,
 "nbformat_minor": 2
}
