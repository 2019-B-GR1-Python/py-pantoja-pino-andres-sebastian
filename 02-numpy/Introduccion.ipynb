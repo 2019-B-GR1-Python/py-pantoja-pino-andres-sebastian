{
 "cells": [
  {
   "cell_type": "code",
   "execution_count": 1,
   "metadata": {},
   "outputs": [],
   "source": [
    "# pip install numpy \n",
    "import numpy as np"
   ]
  },
  {
   "cell_type": "code",
   "execution_count": 5,
   "metadata": {},
   "outputs": [
    {
     "name": "stdout",
     "output_type": "stream",
     "text": [
      "<class 'list'>\n",
      "<class 'tuple'>\n",
      "<class 'numpy.ndarray'>\n",
      "<class 'numpy.ndarray'>\n"
     ]
    }
   ],
   "source": [
    "print(type([1,2,3]))\n",
    "print(type((1,2,3)))\n",
    "print(type(np.array([1,2,3])))\n",
    "print(type(np.array((1,2,3))))"
   ]
  },
  {
   "cell_type": "code",
   "execution_count": 10,
   "metadata": {},
   "outputs": [
    {
     "data": {
      "text/plain": [
       "array([[[0., 0., 0., 0.],\n",
       "        [0., 0., 0., 0.],\n",
       "        [0., 0., 0., 0.]],\n",
       "\n",
       "       [[0., 0., 0., 0.],\n",
       "        [0., 0., 0., 0.],\n",
       "        [0., 0., 0., 0.]],\n",
       "\n",
       "       [[0., 0., 0., 0.],\n",
       "        [0., 0., 0., 0.],\n",
       "        [0., 0., 0., 0.]],\n",
       "\n",
       "       [[0., 0., 0., 0.],\n",
       "        [0., 0., 0., 0.],\n",
       "        [0., 0., 0., 0.]],\n",
       "\n",
       "       [[0., 0., 0., 0.],\n",
       "        [0., 0., 0., 0.],\n",
       "        [0., 0., 0., 0.]]])"
      ]
     },
     "execution_count": 10,
     "metadata": {},
     "output_type": "execute_result"
    }
   ],
   "source": [
    "np.zeros((5, 3, 4))"
   ]
  },
  {
   "cell_type": "code",
   "execution_count": 7,
   "metadata": {},
   "outputs": [
    {
     "data": {
      "text/plain": [
       "array([0.])"
      ]
     },
     "execution_count": 7,
     "metadata": {},
     "output_type": "execute_result"
    }
   ],
   "source": [
    "np.zeros([1])"
   ]
  },
  {
   "cell_type": "code",
   "execution_count": 11,
   "metadata": {},
   "outputs": [
    {
     "data": {
      "text/plain": [
       "array([[[1., 1., 1., 1.],\n",
       "        [1., 1., 1., 1.],\n",
       "        [1., 1., 1., 1.]],\n",
       "\n",
       "       [[1., 1., 1., 1.],\n",
       "        [1., 1., 1., 1.],\n",
       "        [1., 1., 1., 1.]],\n",
       "\n",
       "       [[1., 1., 1., 1.],\n",
       "        [1., 1., 1., 1.],\n",
       "        [1., 1., 1., 1.]],\n",
       "\n",
       "       [[1., 1., 1., 1.],\n",
       "        [1., 1., 1., 1.],\n",
       "        [1., 1., 1., 1.]],\n",
       "\n",
       "       [[1., 1., 1., 1.],\n",
       "        [1., 1., 1., 1.],\n",
       "        [1., 1., 1., 1.]]])"
      ]
     },
     "execution_count": 11,
     "metadata": {},
     "output_type": "execute_result"
    }
   ],
   "source": [
    "np.ones((5, 3, 4))"
   ]
  },
  {
   "cell_type": "code",
   "execution_count": 12,
   "metadata": {},
   "outputs": [
    {
     "data": {
      "text/plain": [
       "array([[1., 0., 0.],\n",
       "       [0., 1., 0.],\n",
       "       [0., 0., 1.]])"
      ]
     },
     "execution_count": 12,
     "metadata": {},
     "output_type": "execute_result"
    }
   ],
   "source": [
    "np.eye(3)"
   ]
  },
  {
   "cell_type": "code",
   "execution_count": 20,
   "metadata": {},
   "outputs": [
    {
     "data": {
      "text/plain": [
       "array([0, 1, 2, 3])"
      ]
     },
     "execution_count": 20,
     "metadata": {},
     "output_type": "execute_result"
    }
   ],
   "source": [
    "np.arange(4)"
   ]
  },
  {
   "cell_type": "code",
   "execution_count": 22,
   "metadata": {},
   "outputs": [
    {
     "data": {
      "text/plain": [
       "array([-2, -1,  0,  1,  2,  3,  4,  5,  6,  7,  8,  9])"
      ]
     },
     "execution_count": 22,
     "metadata": {},
     "output_type": "execute_result"
    }
   ],
   "source": [
    "np.arange(-2,10)"
   ]
  },
  {
   "cell_type": "code",
   "execution_count": 23,
   "metadata": {},
   "outputs": [
    {
     "data": {
      "text/plain": [
       "array([ 0,  4,  8, 12, 16])"
      ]
     },
     "execution_count": 23,
     "metadata": {},
     "output_type": "execute_result"
    }
   ],
   "source": [
    "np.arange(0,20,4)"
   ]
  },
  {
   "cell_type": "code",
   "execution_count": 24,
   "metadata": {},
   "outputs": [
    {
     "data": {
      "text/plain": [
       "array([-12. , -11.5, -11. , -10.5, -10. ,  -9.5,  -9. ,  -8.5,  -8. ,\n",
       "        -7.5,  -7. ,  -6.5,  -6. ,  -5.5,  -5. ,  -4.5,  -4. ,  -3.5,\n",
       "        -3. ,  -2.5,  -2. ,  -1.5,  -1. ,  -0.5,   0. ])"
      ]
     },
     "execution_count": 24,
     "metadata": {},
     "output_type": "execute_result"
    }
   ],
   "source": [
    "np.arange(-12, 0.5, 0.5)"
   ]
  },
  {
   "cell_type": "code",
   "execution_count": 28,
   "metadata": {},
   "outputs": [
    {
     "name": "stdout",
     "output_type": "stream",
     "text": [
      "10\n",
      "10\n",
      "(2, 3, 4)\n"
     ]
    }
   ],
   "source": [
    "arreglo_pares = np.arange(0, 20, 2)\n",
    "print(arreglo_pares.size)\n",
    "print(len(arreglo_pares))\n",
    "arreglo_tres_dimensiones = np.zeros((2, 3, 4))\n",
    "print(arreglo_tres_dimensiones.shape)"
   ]
  },
  {
   "cell_type": "code",
   "execution_count": 29,
   "metadata": {},
   "outputs": [
    {
     "data": {
      "text/plain": [
       "array([[ 0,  2],\n",
       "       [ 4,  6],\n",
       "       [ 8, 10],\n",
       "       [12, 14],\n",
       "       [16, 18]])"
      ]
     },
     "execution_count": 29,
     "metadata": {},
     "output_type": "execute_result"
    }
   ],
   "source": [
    "arreglo_pares.reshape((2, 5))\n",
    "arreglo_pares.reshape((5, 2))"
   ]
  },
  {
   "cell_type": "code",
   "execution_count": 33,
   "metadata": {},
   "outputs": [
    {
     "data": {
      "text/plain": [
       "array([[ 0],\n",
       "       [ 1],\n",
       "       [ 2],\n",
       "       [ 3],\n",
       "       [ 4],\n",
       "       [ 5],\n",
       "       [ 6],\n",
       "       [ 7],\n",
       "       [ 8],\n",
       "       [ 9],\n",
       "       [10],\n",
       "       [11],\n",
       "       [12],\n",
       "       [13],\n",
       "       [14],\n",
       "       [15],\n",
       "       [16],\n",
       "       [17],\n",
       "       [18],\n",
       "       [19],\n",
       "       [20],\n",
       "       [21],\n",
       "       [22],\n",
       "       [23]])"
      ]
     },
     "execution_count": 33,
     "metadata": {},
     "output_type": "execute_result"
    }
   ],
   "source": [
    "# Crear un arreglo de 24 elementos y poner todas las posibles combinaciones de elementos\n",
    "arreglo24 = np.arange(24)\n",
    "print(arreglo24)\n",
    "print(arreglo24.reshape((2,2,2,3)))\n",
    "print(arreglo24.reshape((2,3,2,2)))\n",
    "print(arreglo24.reshape((2,2,3,2)))\n",
    "print(arreglo24.reshape((3,2,2,3)))\n",
    "print(arreglo24.reshape((4,2,3)))\n",
    "print(arreglo24.reshape((4,3,2)))\n",
    "print(arreglo24.reshape((3,4,2)))\n",
    "print(arreglo24.reshape((3,2,4)))\n",
    "print(arreglo24.reshape((2,3,4)))\n",
    "print(arreglo24.reshape((2,4,3)))\n",
    "print(arreglo24.reshape((2,12)))\n",
    "print(arreglo24.reshape((3,8)))\n",
    "print(arreglo24.reshape((4,6)))\n",
    "print(arreglo24.reshape((6,4)))\n",
    "print(arreglo24.reshape((8,3)))\n",
    "print(arreglo24.reshape((12,2)))\n",
    "print(arreglo24.reshape((24,1)))\n",
    "print(arreglo24.reshape((1,24)))"
   ]
  },
  {
   "cell_type": "code",
   "execution_count": 34,
   "metadata": {},
   "outputs": [
    {
     "data": {
      "text/plain": [
       "array([15, 15, 15])"
      ]
     },
     "execution_count": 34,
     "metadata": {},
     "output_type": "execute_result"
    }
   ],
   "source": [
    "a = np.array([10, 10, 10])\n",
    "b = np.array([5, 5, 5])\n",
    "a + b"
   ]
  },
  {
   "cell_type": "code",
   "execution_count": 35,
   "metadata": {},
   "outputs": [
    {
     "data": {
      "text/plain": [
       "array([5, 5, 5])"
      ]
     },
     "execution_count": 35,
     "metadata": {},
     "output_type": "execute_result"
    }
   ],
   "source": [
    "a - b"
   ]
  },
  {
   "cell_type": "code",
   "execution_count": 36,
   "metadata": {},
   "outputs": [
    {
     "data": {
      "text/plain": [
       "array([50, 50, 50])"
      ]
     },
     "execution_count": 36,
     "metadata": {},
     "output_type": "execute_result"
    }
   ],
   "source": [
    "a * b"
   ]
  },
  {
   "cell_type": "code",
   "execution_count": 57,
   "metadata": {},
   "outputs": [
    {
     "data": {
      "text/plain": [
       "array([0, 0, 0], dtype=int32)"
      ]
     },
     "execution_count": 57,
     "metadata": {},
     "output_type": "execute_result"
    }
   ],
   "source": [
    "a % b"
   ]
  },
  {
   "cell_type": "code",
   "execution_count": 44,
   "metadata": {},
   "outputs": [
    {
     "data": {
      "text/plain": [
       "array([[[-1.00000000e+00, -9.00000000e-01],\n",
       "        [-8.00000000e-01, -7.00000000e-01],\n",
       "        [-6.00000000e-01, -5.00000000e-01],\n",
       "        [-4.00000000e-01, -3.00000000e-01],\n",
       "        [-2.00000000e-01, -1.00000000e-01]],\n",
       "\n",
       "       [[-2.22044605e-16,  1.00000000e-01],\n",
       "        [ 2.00000000e-01,  3.00000000e-01],\n",
       "        [ 4.00000000e-01,  5.00000000e-01],\n",
       "        [ 6.00000000e-01,  7.00000000e-01],\n",
       "        [ 8.00000000e-01,  9.00000000e-01]]])"
      ]
     },
     "execution_count": 44,
     "metadata": {},
     "output_type": "execute_result"
    }
   ],
   "source": [
    "# crear un arreglo de 3 dimensiones y ejecutar las operaciones básicas\n",
    "arreglo = np.arange(-1, 1, 0.1)\n",
    "arreglo.size\n",
    "arreglo_cambiado = arreglo.reshape(2, 5, 2)\n",
    "arreglo_cambiado"
   ]
  },
  {
   "cell_type": "code",
   "execution_count": 45,
   "metadata": {},
   "outputs": [
    {
     "data": {
      "text/plain": [
       "array([[[0. , 0.1],\n",
       "        [0.2, 0.3],\n",
       "        [0.4, 0.5],\n",
       "        [0.6, 0.7],\n",
       "        [0.8, 0.9]],\n",
       "\n",
       "       [[1. , 1.1],\n",
       "        [1.2, 1.3],\n",
       "        [1.4, 1.5],\n",
       "        [1.6, 1.7],\n",
       "        [1.8, 1.9]]])"
      ]
     },
     "execution_count": 45,
     "metadata": {},
     "output_type": "execute_result"
    }
   ],
   "source": [
    "arreglo_cambiado + 1"
   ]
  },
  {
   "cell_type": "code",
   "execution_count": 49,
   "metadata": {},
   "outputs": [
    {
     "data": {
      "text/plain": [
       "array([[[-2.0000000e+00, -1.8000000e+00],\n",
       "        [-1.6000000e+00, -1.4000000e+00],\n",
       "        [-1.2000000e+00, -1.0000000e+00],\n",
       "        [-8.0000000e-01, -6.0000000e-01],\n",
       "        [-4.0000000e-01, -2.0000000e-01]],\n",
       "\n",
       "       [[-4.4408921e-16,  2.0000000e-01],\n",
       "        [ 4.0000000e-01,  6.0000000e-01],\n",
       "        [ 8.0000000e-01,  1.0000000e+00],\n",
       "        [ 1.2000000e+00,  1.4000000e+00],\n",
       "        [ 1.6000000e+00,  1.8000000e+00]]])"
      ]
     },
     "execution_count": 49,
     "metadata": {},
     "output_type": "execute_result"
    }
   ],
   "source": [
    "arreglo_cambiado + arreglo_cambiado"
   ]
  },
  {
   "cell_type": "code",
   "execution_count": 50,
   "metadata": {},
   "outputs": [
    {
     "data": {
      "text/plain": [
       "array([[[0., 0.],\n",
       "        [0., 0.],\n",
       "        [0., 0.],\n",
       "        [0., 0.],\n",
       "        [0., 0.]],\n",
       "\n",
       "       [[0., 0.],\n",
       "        [0., 0.],\n",
       "        [0., 0.],\n",
       "        [0., 0.],\n",
       "        [0., 0.]]])"
      ]
     },
     "execution_count": 50,
     "metadata": {},
     "output_type": "execute_result"
    }
   ],
   "source": [
    "arreglo_cambiado - arreglo_cambiado"
   ]
  },
  {
   "cell_type": "code",
   "execution_count": 51,
   "metadata": {},
   "outputs": [
    {
     "data": {
      "text/plain": [
       "array([[[1.00000000e+00, 8.10000000e-01],\n",
       "        [6.40000000e-01, 4.90000000e-01],\n",
       "        [3.60000000e-01, 2.50000000e-01],\n",
       "        [1.60000000e-01, 9.00000000e-02],\n",
       "        [4.00000000e-02, 1.00000000e-02]],\n",
       "\n",
       "       [[4.93038066e-32, 1.00000000e-02],\n",
       "        [4.00000000e-02, 9.00000000e-02],\n",
       "        [1.60000000e-01, 2.50000000e-01],\n",
       "        [3.60000000e-01, 4.90000000e-01],\n",
       "        [6.40000000e-01, 8.10000000e-01]]])"
      ]
     },
     "execution_count": 51,
     "metadata": {},
     "output_type": "execute_result"
    }
   ],
   "source": [
    "arreglo_cambiado * arreglo_cambiado"
   ]
  },
  {
   "cell_type": "code",
   "execution_count": 52,
   "metadata": {},
   "outputs": [
    {
     "data": {
      "text/plain": [
       "array([[[1., 1.],\n",
       "        [1., 1.],\n",
       "        [1., 1.],\n",
       "        [1., 1.],\n",
       "        [1., 1.]],\n",
       "\n",
       "       [[1., 1.],\n",
       "        [1., 1.],\n",
       "        [1., 1.],\n",
       "        [1., 1.],\n",
       "        [1., 1.]]])"
      ]
     },
     "execution_count": 52,
     "metadata": {},
     "output_type": "execute_result"
    }
   ],
   "source": [
    "arreglo_cambiado / arreglo_cambiado"
   ]
  },
  {
   "cell_type": "code",
   "execution_count": 53,
   "metadata": {},
   "outputs": [
    {
     "data": {
      "text/plain": [
       "array([[[-0., -0.],\n",
       "        [-0., -0.],\n",
       "        [-0., -0.],\n",
       "        [-0., -0.],\n",
       "        [-0., -0.]],\n",
       "\n",
       "       [[-0.,  0.],\n",
       "        [ 0.,  0.],\n",
       "        [ 0.,  0.],\n",
       "        [ 0.,  0.],\n",
       "        [ 0.,  0.]]])"
      ]
     },
     "execution_count": 53,
     "metadata": {},
     "output_type": "execute_result"
    }
   ],
   "source": [
    "arreglo_cambiado % arreglo_cambiado"
   ]
  },
  {
   "cell_type": "code",
   "execution_count": 54,
   "metadata": {},
   "outputs": [
    {
     "data": {
      "text/plain": [
       "array([[[1. , 1.1],\n",
       "        [1.2, 1.3],\n",
       "        [1.4, 1.5],\n",
       "        [1.6, 1.7],\n",
       "        [1.8, 1.9]],\n",
       "\n",
       "       [[2. , 0.1],\n",
       "        [0.2, 0.3],\n",
       "        [0.4, 0.5],\n",
       "        [0.6, 0.7],\n",
       "        [0.8, 0.9]]])"
      ]
     },
     "execution_count": 54,
     "metadata": {},
     "output_type": "execute_result"
    }
   ],
   "source": [
    "arreglo_cambiado % 2"
   ]
  },
  {
   "cell_type": "code",
   "execution_count": 55,
   "metadata": {},
   "outputs": [
    {
     "data": {
      "text/plain": [
       "array([[[-0.00000000e+00, -4.50000000e-01],\n",
       "        [-8.00000000e-01, -1.05000000e+00],\n",
       "        [-1.20000000e+00, -1.25000000e+00],\n",
       "        [-1.20000000e+00, -1.05000000e+00],\n",
       "        [-8.00000000e-01, -4.50000000e-01]],\n",
       "\n",
       "       [[-1.11022302e-15,  5.50000000e-01],\n",
       "        [ 1.20000000e+00,  1.95000000e+00],\n",
       "        [ 2.80000000e+00,  3.75000000e+00],\n",
       "        [ 4.80000000e+00,  5.95000000e+00],\n",
       "        [ 7.20000000e+00,  8.55000000e+00]]])"
      ]
     },
     "execution_count": 55,
     "metadata": {},
     "output_type": "execute_result"
    }
   ],
   "source": [
    "arreglo2 = np.arange(0, 10, 0.5).reshape(2, 5, 2)\n",
    "arreglo_cambiado * arreglo2"
   ]
  },
  {
   "cell_type": "code",
   "execution_count": 56,
   "metadata": {},
   "outputs": [
    {
     "name": "stderr",
     "output_type": "stream",
     "text": [
      "D:\\Anaconda\\lib\\site-packages\\ipykernel_launcher.py:1: RuntimeWarning: invalid value encountered in remainder\n",
      "  \"\"\"Entry point for launching an IPython kernel.\n"
     ]
    },
    {
     "data": {
      "text/plain": [
       "array([[[nan, 0.1],\n",
       "        [0.2, 0.8],\n",
       "        [1.4, 2. ],\n",
       "        [2.6, 3.2],\n",
       "        [3.8, 4.4]],\n",
       "\n",
       "       [[5. , 0.1],\n",
       "        [0.2, 0.3],\n",
       "        [0.4, 0.5],\n",
       "        [0.6, 0.7],\n",
       "        [0.8, 0.9]]])"
      ]
     },
     "execution_count": 56,
     "metadata": {},
     "output_type": "execute_result"
    }
   ],
   "source": [
    "arreglo_cambiado % arreglo2"
   ]
  },
  {
   "cell_type": "code",
   "execution_count": 58,
   "metadata": {},
   "outputs": [
    {
     "name": "stdout",
     "output_type": "stream",
     "text": [
      "[12 12 12]\n",
      "[8 8 8]\n",
      "[20 20 20]\n",
      "[5. 5. 5.]\n",
      "[0 0 0]\n"
     ]
    }
   ],
   "source": [
    "print(a + 2)\n",
    "print(a - 2)\n",
    "print(a * 2)\n",
    "print(a / 2)\n",
    "print(a % 2)"
   ]
  },
  {
   "cell_type": "code",
   "execution_count": 88,
   "metadata": {},
   "outputs": [
    {
     "name": "stdout",
     "output_type": "stream",
     "text": [
      "[ 7  8  9 10 11 12 13 14 15 16 17 18 19]\n",
      "[ 7  8  9 10 11 12 13]\n",
      "[ 8 10 12]\n"
     ]
    }
   ],
   "source": [
    "# los mayores a 5 y menores a 12\n",
    "arreglo_muestra = np.arange(20).reshape(5, 2, 2)\n",
    "resp1 = arreglo_muestra[arreglo_muestra >6]\n",
    "print(resp1)\n",
    "resp2 = arreglo_muestra[arreglo_muestra >6][arreglo_muestra[arreglo_muestra >6] < 14]\n",
    "print(resp2)\n",
    "resp3 = arreglo_muestra[arreglo_muestra >6][arreglo_muestra[arreglo_muestra >6] < 14][arreglo_muestra[arreglo_muestra >6][arreglo_muestra[arreglo_muestra >6] < 14]%2 == 0]\n",
    "print(resp3)"
   ]
  },
  {
   "cell_type": "code",
   "execution_count": 90,
   "metadata": {},
   "outputs": [
    {
     "name": "stdout",
     "output_type": "stream",
     "text": [
      "[ 8 10 12]\n"
     ]
    }
   ],
   "source": [
    "resp = arreglo_muestra[arreglo_muestra >6][arreglo_muestra[arreglo_muestra >6] < 14][arreglo_muestra[arreglo_muestra >6][arreglo_muestra[arreglo_muestra >6] < 14]%2 == 0]\n",
    "print(resp)"
   ]
  },
  {
   "cell_type": "code",
   "execution_count": 92,
   "metadata": {},
   "outputs": [
    {
     "name": "stdout",
     "output_type": "stream",
     "text": [
      "[ 6  8 10]\n"
     ]
    }
   ],
   "source": [
    "# solucion 1\n",
    "mayor_cinco = arreglo_muestra > 5\n",
    "menor_doce = arreglo_muestra < 12\n",
    "mod_dos = arreglo_muestra % 2 == 0\n",
    "resp = arreglo_muestra[mayor_cinco & menor_doce & mod_dos]\n",
    "print(resp)"
   ]
  },
  {
   "cell_type": "code",
   "execution_count": 94,
   "metadata": {},
   "outputs": [
    {
     "name": "stdout",
     "output_type": "stream",
     "text": [
      "[ 6  8 10]\n"
     ]
    }
   ],
   "source": [
    "# solucion 2\n",
    "mayor_cinco = arreglo_muestra > 5\n",
    "menor_doce = arreglo_muestra < 12\n",
    "mod_dos = arreglo_muestra % 2 == 0\n",
    "resp = arreglo_muestra[mayor_cinco * menor_doce * mod_dos]\n",
    "print(resp)"
   ]
  },
  {
   "cell_type": "code",
   "execution_count": 98,
   "metadata": {},
   "outputs": [
    {
     "data": {
      "text/plain": [
       "array([[0, 1],\n",
       "       [2, 3]])"
      ]
     },
     "execution_count": 98,
     "metadata": {},
     "output_type": "execute_result"
    }
   ],
   "source": [
    "A = np.arange(4).reshape((2, 2))\n",
    "A"
   ]
  },
  {
   "cell_type": "code",
   "execution_count": 97,
   "metadata": {},
   "outputs": [
    {
     "data": {
      "text/plain": [
       "array([[5, 6],\n",
       "       [7, 8]])"
      ]
     },
     "execution_count": 97,
     "metadata": {},
     "output_type": "execute_result"
    }
   ],
   "source": [
    "B = np.arange(5, 9).reshape((2, 2))\n",
    "B"
   ]
  },
  {
   "cell_type": "code",
   "execution_count": 99,
   "metadata": {},
   "outputs": [
    {
     "data": {
      "text/plain": [
       "array([[ 7,  8],\n",
       "       [31, 36]])"
      ]
     },
     "execution_count": 99,
     "metadata": {},
     "output_type": "execute_result"
    }
   ],
   "source": [
    "A.dot(B)"
   ]
  },
  {
   "cell_type": "code",
   "execution_count": 100,
   "metadata": {},
   "outputs": [
    {
     "data": {
      "text/plain": [
       "array([[ 7,  8],\n",
       "       [31, 36]])"
      ]
     },
     "execution_count": 100,
     "metadata": {},
     "output_type": "execute_result"
    }
   ],
   "source": [
    "np.dot(A, B)"
   ]
  },
  {
   "cell_type": "code",
   "execution_count": 101,
   "metadata": {},
   "outputs": [
    {
     "data": {
      "text/plain": [
       "array([[12, 23],\n",
       "       [16, 31]])"
      ]
     },
     "execution_count": 101,
     "metadata": {},
     "output_type": "execute_result"
    }
   ],
   "source": [
    "B.dot(A)"
   ]
  },
  {
   "cell_type": "code",
   "execution_count": 102,
   "metadata": {},
   "outputs": [
    {
     "data": {
      "text/plain": [
       "array([[12, 23],\n",
       "       [16, 31]])"
      ]
     },
     "execution_count": 102,
     "metadata": {},
     "output_type": "execute_result"
    }
   ],
   "source": [
    "np.dot(B, A)"
   ]
  },
  {
   "cell_type": "code",
   "execution_count": 103,
   "metadata": {},
   "outputs": [
    {
     "name": "stdout",
     "output_type": "stream",
     "text": [
      "66\n",
      "11\n",
      "0\n"
     ]
    }
   ],
   "source": [
    "arreglo_doce = np.arange(12)\n",
    "print(arreglo_doce.sum())\n",
    "print(arreglo_doce.max())\n",
    "print(arreglo_doce.min())"
   ]
  },
  {
   "cell_type": "code",
   "execution_count": 109,
   "metadata": {},
   "outputs": [
    {
     "name": "stdout",
     "output_type": "stream",
     "text": [
      "66\n",
      "11\n",
      "0\n"
     ]
    }
   ],
   "source": [
    "arreglo_doce = np.arange(12).reshape(3, 2, 2)\n",
    "print(arreglo_doce.sum())\n",
    "print(arreglo_doce.max())\n",
    "print(arreglo_doce.min())"
   ]
  },
  {
   "cell_type": "code",
   "execution_count": 113,
   "metadata": {},
   "outputs": [
    {
     "name": "stdout",
     "output_type": "stream",
     "text": [
      "[[[ 0  1]\n",
      "  [ 2  3]]\n",
      "\n",
      " [[ 4  5]\n",
      "  [ 6  7]]\n",
      "\n",
      " [[ 8  9]\n",
      "  [10 11]]]\n",
      "*******\n",
      "[[12 15]\n",
      " [18 21]]\n",
      "*******\n",
      "[[ 2  4]\n",
      " [10 12]\n",
      " [18 20]]\n",
      "*******\n",
      "[[ 1  5]\n",
      " [ 9 13]\n",
      " [17 21]]\n"
     ]
    }
   ],
   "source": [
    "print(arreglo_doce)  # 3, 2, 2\n",
    "print('*******')\n",
    "print(arreglo_doce.sum(axis = 0))\n",
    "print('*******')\n",
    "print(arreglo_doce.sum(axis = 1))\n",
    "print('*******')\n",
    "print(arreglo_doce.sum(axis = 2))"
   ]
  },
  {
   "cell_type": "code",
   "execution_count": 115,
   "metadata": {},
   "outputs": [
    {
     "name": "stdout",
     "output_type": "stream",
     "text": [
      "[[[[ 0  1]\n",
      "   [ 2  3]]\n",
      "\n",
      "  [[ 4  5]\n",
      "   [ 6  7]]]\n",
      "\n",
      "\n",
      " [[[ 8  9]\n",
      "   [10 11]]\n",
      "\n",
      "  [[12 13]\n",
      "   [14 15]]]\n",
      "\n",
      "\n",
      " [[[16 17]\n",
      "   [18 19]]\n",
      "\n",
      "  [[20 21]\n",
      "   [22 23]]]]\n",
      "*******\n",
      "[[[24 27]\n",
      "  [30 33]]\n",
      "\n",
      " [[36 39]\n",
      "  [42 45]]]\n",
      "*******\n",
      "[[[ 4  6]\n",
      "  [ 8 10]]\n",
      "\n",
      " [[20 22]\n",
      "  [24 26]]\n",
      "\n",
      " [[36 38]\n",
      "  [40 42]]]\n",
      "*******\n",
      "[[[ 2  4]\n",
      "  [10 12]]\n",
      "\n",
      " [[18 20]\n",
      "  [26 28]]\n",
      "\n",
      " [[34 36]\n",
      "  [42 44]]]\n",
      "*******\n",
      "[[[ 1  5]\n",
      "  [ 9 13]]\n",
      "\n",
      " [[17 21]\n",
      "  [25 29]]\n",
      "\n",
      " [[33 37]\n",
      "  [41 45]]]\n"
     ]
    }
   ],
   "source": [
    "arreglo_doce = np.arange(24).reshape(3, 2, 2, 2)\n",
    "print(arreglo_doce)\n",
    "print('*******')\n",
    "print(arreglo_doce.sum(axis = 0))\n",
    "print('*******')\n",
    "print(arreglo_doce.sum(axis = 1))\n",
    "print('*******')\n",
    "print(arreglo_doce.sum(axis = 2))\n",
    "print('*******')\n",
    "print(arreglo_doce.sum(axis = 3))"
   ]
  },
  {
   "cell_type": "code",
   "execution_count": null,
   "metadata": {},
   "outputs": [],
   "source": []
  }
 ],
 "metadata": {
  "kernelspec": {
   "display_name": "Python 3",
   "language": "python",
   "name": "python3"
  },
  "language_info": {
   "codemirror_mode": {
    "name": "ipython",
    "version": 3
   },
   "file_extension": ".py",
   "mimetype": "text/x-python",
   "name": "python",
   "nbconvert_exporter": "python",
   "pygments_lexer": "ipython3",
   "version": "3.7.3"
  }
 },
 "nbformat": 4,
 "nbformat_minor": 2
}
