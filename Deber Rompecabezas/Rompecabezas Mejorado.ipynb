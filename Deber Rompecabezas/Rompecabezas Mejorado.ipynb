{
 "cells": [
  {
   "cell_type": "code",
   "execution_count": null,
   "metadata": {},
   "outputs": [],
   "source": [
    "\n"
   ]
  },
  {
   "cell_type": "code",
   "execution_count": null,
   "metadata": {},
   "outputs": [],
   "source": []
  },
  {
   "cell_type": "code",
   "execution_count": 1,
   "metadata": {},
   "outputs": [
    {
     "name": "stdout",
     "output_type": "stream",
     "text": [
      "(4, 192, 256, 3)\n",
      "(8, 192, 256, 3)\n",
      "(12, 192, 256, 3)\n",
      "(16, 192, 256, 3)\n",
      "Son iguales\n"
     ]
    }
   ],
   "source": [
    "from IPython.display import clear_output\n",
    "from time import sleep\n",
    "import numpy as np\n",
    "import math\n",
    "from scipy import ndimage\n",
    "from scipy import misc\n",
    "import matplotlib.pyplot as plt\n",
    "import random\n",
    "mapache = misc.face()\n",
    "div_vertical = 4\n",
    "div_horizontal = 4\n",
    "objetivo = None\n",
    "for vertical in np.vsplit(mapache, div_vertical):\n",
    "    if objetivo is None:\n",
    "        objetivo = np.array(np.hsplit(vertical, div_horizontal))\n",
    "        print(objetivo.shape)\n",
    "    else:\n",
    "        objetivo = np.vstack([objetivo, np.hsplit(vertical, div_horizontal)])\n",
    "        print(objetivo.shape)\n",
    "    \n",
    "\n",
    "objetivo = objetivo.reshape([div_vertical,div_horizontal, objetivo.shape[1], objetivo.shape[2], 3])\n",
    "vertical1, vertical2, vertical3, vertical4 = np.vsplit(mapache,div_vertical)\n",
    "objetivo2 = np.array([np.hsplit(vertical1,div_horizontal), np.hsplit(vertical2,div_horizontal),np.hsplit(vertical3,div_horizontal),np.hsplit(vertical4,div_horizontal)])\n",
    "\n",
    "if np.array_equal(objetivo,objetivo2):\n",
    "    print(\"Son iguales\")\n",
    "else:\n",
    "    print(\"No son iguales\")\n",
    "    print(objetivo.shape)\n",
    "    print(objetivo2.shape)"
   ]
  },
  {
   "cell_type": "code",
   "execution_count": 23,
   "metadata": {},
   "outputs": [],
   "source": [
    "from IPython.display import clear_output\n",
    "from time import sleep\n",
    "import numpy as np\n",
    "import math\n",
    "from scipy import ndimage\n",
    "from scipy import misc\n",
    "import matplotlib.pyplot as plt\n",
    "import random\n",
    "\n",
    "imagen = misc.face()\n",
    "class Rompecabezas:\n",
    "    __objetivo = None\n",
    "    __imagen_actual = None\n",
    "    __division_horizontal = None\n",
    "    __division_vertical = None\n",
    "    def __init__(self, division_vertical, division_horizontal):\n",
    "        self.__division_vertical = division_vertical\n",
    "        self.__division_horizontal = division_horizontal\n",
    "        self.__crear_piezas()\n",
    "        self.__imagen_actual = np.zeros_like(self.__objetivo) \n",
    "        self.__crear_rompecabezas()\n",
    "        self.__jugar()\n",
    "    \n",
    "    def __crear_piezas(self):\n",
    "        global imagen\n",
    "        objetivo = None\n",
    "        for vertical in np.vsplit(imagen, self.__division_vertical):\n",
    "            if objetivo is None:\n",
    "                objetivo = np.array(np.hsplit(vertical, self.__division_horizontal))\n",
    "            else:\n",
    "                objetivo = np.vstack([objetivo, np.hsplit(vertical, self.__division_horizontal)])\n",
    "        objetivo = objetivo.reshape([self.__division_vertical,self.__division_horizontal, objetivo.shape[1], objetivo.shape[2], 3])\n",
    "        self.__objetivo = objetivo.copy()\n",
    "\n",
    "    def __crear_rompecabezas(self):\n",
    "        cantidad_piezas = self.__division_horizontal * self.__division_vertical\n",
    "        if cantidad_piezas == 2:\n",
    "            posiciones_iniciales = [1, 0]\n",
    "        else:\n",
    "            posiciones_iniciales = random.sample(range(cantidad_piezas), cantidad_piezas)\n",
    "        contador = 0\n",
    "        for posicion in posiciones_iniciales:\n",
    "            self.__imagen_actual[int(contador/self.__division_horizontal), contador%self.__division_horizontal] = self.__objetivo[int(posicion/self.__division_horizontal), posicion%self.__division_horizontal,:,:,:]\n",
    "            contador = contador + 1\n",
    "\n",
    "    def __intercambio(self, origen, destino):\n",
    "        auxiliar = np.copy(self.__imagen_actual[int(origen/self.__division_horizontal), origen%self.__division_horizontal])\n",
    "        self.__imagen_actual[int(origen/self.__division_horizontal), origen%self.__division_horizontal] = self.__imagen_actual[int(destino/self.__division_horizontal), destino%self.__division_horizontal]\n",
    "        self.__imagen_actual[int(destino/self.__division_horizontal), destino%self.__division_horizontal] = np.copy(auxiliar)\n",
    "\n",
    "        \n",
    "    def __dibujar(self):\n",
    "        global imagen\n",
    "        nuevo = None\n",
    "        for filas in range(self.__division_vertical):\n",
    "            if nuevo is None:\n",
    "                nuevo = np.array(np.hstack(self.__imagen_actual[filas,:,:,:,:])) \n",
    "            else:\n",
    "                nuevo = np.vstack([nuevo ,np.hstack(self.__imagen_actual[filas,:,:,:,:])])\n",
    "        fig, axes = plt.subplots(nrows = 1, ncols = 2, figsize=(15,15))\n",
    "        \n",
    "        axes[0].set_title(\"Rompecabezas Actual\")\n",
    "        axes[1].set_title(\"Imagen Objetivo\")\n",
    "        axes[0].imshow(nuevo)\n",
    "        axes[1].imshow(imagen)\n",
    "        fig.tight_layout()\n",
    "        \n",
    "        \n",
    "    def __jugar(self):\n",
    "        mensaje_error = \"\"\n",
    "        while True:\n",
    "            clear_output()\n",
    "            hay_mensaje_error = mensaje_error != \"\"\n",
    "            if hay_mensaje_error:\n",
    "                print(mensaje_error)\n",
    "            mensaje_error = \"\"\n",
    "            self.__dibujar()\n",
    "            plt.pause(0.005)\n",
    "            try:\n",
    "                origen = int(input(\"Ingrese el índice origen del intercambio: \"))\n",
    "                destino = int(input(\"Ingrese el índice destino del intercambio: \"))        \n",
    "            except Exception:\n",
    "                mensaje_error = \"Ingrese un número correcto\"\n",
    "                continue\n",
    "            indices_exceden_cantidad_piezas = origen<0 or origen>15 or destino>15 or destino<0\n",
    "            if indices_exceden_cantidad_piezas:\n",
    "                    mensaje_error = \"Un valor ingresado excede la cantidad de piezas del rompecabezas\"\n",
    "            else:\n",
    "                    self.__intercambio(origen,destino)\n",
    "            ha_ganado = np.array_equal(self.__imagen_actual, self.__objetivo) \n",
    "            if ha_ganado:\n",
    "                break\n",
    "        clear_output()\n",
    "        print(\"Felicitaciones, has completado el rompecabezas\")\n",
    "        self.__dibujar()\n",
    "                            \n",
    "class Juego:                 \n",
    "    def __init__(self):\n",
    "        global imagen\n",
    "        while True:\n",
    "            try:\n",
    "                horizontal = int(input(\"Ingrese la division en la horizontal: \"))\n",
    "                vertical = int(input(\"Ingrese la division en la vertical: \"))\n",
    "                np.vsplit(imagen, vertical)\n",
    "                np.hsplit(imagen, horizontal)\n",
    "            except Exception as e:\n",
    "                print(\"No se puede realizar el rompecabezas con esas divisiones\")\n",
    "                continue\n",
    "            es_uno_por_uno = vertical == 1 and horizontal == 1 \n",
    "            if es_uno_por_uno:\n",
    "                print(\"No se puede realizar el rompecabezas con esas divisiones\")\n",
    "            else:\n",
    "                break \n",
    "        rompecabezas = Rompecabezas(vertical, horizontal)\n",
    "            "
   ]
  },
  {
   "cell_type": "markdown",
   "metadata": {},
   "source": [
    "# Bienvenido al juego de Rompecabezas\n",
    "## El objetivo es armar el rompecabezas intercambiado las piezas mal ubicadas\n",
    "### El juego inicia pidiéndole las divisiones horizontales y verticales para hacer el rompecabezas\n",
    "### Al empezar con el rompecabezas se le pedirá indicar dos piezas para ser intercambiadas. \n",
    "#### La numeración de las piezas empieza desde arriba a la izquierda, aumentando uno hacia la derecha y empezando desde cero\n",
    "### Por ejemplo, así\n",
    "|  0 |  1 | 2  | 3  |\n",
    "|----|----|----|----|\n",
    "|  4 |  5 | 6  | 7  |\n",
    "|  8 |  9 | 10 | 11 |\n",
    "| 12 | 13 | 14 | 15 |\n",
    "\n",
    "### Para empezar a jugar ejecute la celda debajo"
   ]
  },
  {
   "cell_type": "code",
   "execution_count": null,
   "metadata": {
    "scrolled": false
   },
   "outputs": [
    {
     "name": "stdout",
     "output_type": "stream",
     "text": [
      "Ingrese la division en la horizontal: 1\n",
      "Ingrese la division en la vertical: 1\n",
      "No se puede realizar el rompecabezas con esas divisiones\n"
     ]
    }
   ],
   "source": [
    "#rompecabezas = Rompecabezas()\n",
    "juego = Juego()"
   ]
  },
  {
   "cell_type": "code",
   "execution_count": null,
   "metadata": {},
   "outputs": [],
   "source": []
  },
  {
   "cell_type": "code",
   "execution_count": null,
   "metadata": {},
   "outputs": [],
   "source": []
  },
  {
   "cell_type": "code",
   "execution_count": null,
   "metadata": {},
   "outputs": [],
   "source": []
  },
  {
   "cell_type": "code",
   "execution_count": null,
   "metadata": {},
   "outputs": [],
   "source": []
  }
 ],
 "metadata": {
  "kernelspec": {
   "display_name": "Python 3",
   "language": "python",
   "name": "python3"
  },
  "language_info": {
   "codemirror_mode": {
    "name": "ipython",
    "version": 3
   },
   "file_extension": ".py",
   "mimetype": "text/x-python",
   "name": "python",
   "nbconvert_exporter": "python",
   "pygments_lexer": "ipython3",
   "version": "3.7.3"
  }
 },
 "nbformat": 4,
 "nbformat_minor": 2
}
